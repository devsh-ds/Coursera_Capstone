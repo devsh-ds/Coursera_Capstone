{
    "nbformat_minor": 1, 
    "cells": [
        {
            "execution_count": 153, 
            "cell_type": "code", 
            "metadata": {}, 
            "outputs": [], 
            "source": "import bs4 as bs\nimport urllib.request\nimport pandas as pd\nsource = urllib.request.urlopen('https://en.wikipedia.org/wiki/List_of_postal_codes_of_Canada:_M').read()\nsoup = bs.BeautifulSoup(source,'lxml')"
        }, 
        {
            "execution_count": 154, 
            "cell_type": "code", 
            "metadata": {}, 
            "outputs": [], 
            "source": "#print (soup)\ntable = soup.table\ntable_rows = table.find_all('tr')\nColumns = ['Postcode','Borough','Neighbourhood']\nCanadaDF= pd.DataFrame(columns = ['Postcode','Borough','Neighbourhood'])\n#CanadaDF = CanadaDF.append(Columns)\n#CanadaDF = CanadaDF.append(['M6A', 'North York', 'Lawrence Heights\\n'])\n#CanadaDF.head()\nTableData=[]\nDups = []\nfor tr in table_rows:\n    td = tr.find_all('td')\n    row = [(i.text).strip(\"\\n\") for i in td]\n    #CanadaDF.append(row,ignore_index = True)\n    if len(row)> 1:\n        \n        if row[0] in TableData:\n            Dups.append(row)\n        elif row[1]!='Not assigned':\n            if row[2] == 'Not assigned':\n                row[2] = row [1]         \n            #print(row)\n            TableData.append(row)\n        \n        "
        }, 
        {
            "execution_count": 155, 
            "cell_type": "code", 
            "metadata": {}, 
            "outputs": [], 
            "source": "#CanadaDF= CanadaDF.append(TableData)\nfor data in TableData:\n    CanadaDF= CanadaDF.append({'Postcode': data[0], 'Borough':data[1], 'Neighbourhood': data[2] },ignore_index=True)\n\n\n# Sort the rows of dataframe by column 'Name'\nCanadaDF = CanadaDF.sort_values(by ='Postcode' )\nCanadaDF.drop_duplicates(keep='first',inplace = True)\n"
        }, 
        {
            "execution_count": 156, 
            "cell_type": "code", 
            "metadata": {}, 
            "outputs": [], 
            "source": "#CanadaDF.head(50)"
        }, 
        {
            "execution_count": 157, 
            "cell_type": "code", 
            "metadata": {}, 
            "outputs": [], 
            "source": "duplicateRowsDF = CanadaDF[CanadaDF.duplicated(['Postcode'])]\nduplicateRowsDF = duplicateRowsDF.sort_values(by ='Postcode')\nCanadaDF.drop_duplicates(subset='Postcode', keep='first',inplace = True)\n"
        }, 
        {
            "execution_count": 158, 
            "cell_type": "code", 
            "metadata": {}, 
            "outputs": [], 
            "source": "#CanadaDF.head(50)"
        }, 
        {
            "execution_count": 159, 
            "cell_type": "code", 
            "metadata": {}, 
            "outputs": [
                {
                    "output_type": "stream", 
                    "name": "stderr", 
                    "text": "/opt/conda/envs/Python36/lib/python3.6/site-packages/ipykernel/__main__.py:9: FutureWarning: set_value is deprecated and will be removed in a future release. Please use .at[] or .iat[] accessors instead\n"
                }
            ], 
            "source": "for index, row in duplicateRowsDF.iterrows():\n    pcd = row['Postcode']\n    for index1, row1 in CanadaDF.iterrows():\n        pco = row1['Postcode']\n        if pcd == pco:\n            NewValue = str(row1['Neighbourhood'])+\", \"+str(row['Neighbourhood'])\n            #print (NewValue)\n            #CanadaDF.iloc[index1,CanadaDF.columns.get_loc('Neighbourhood')] = str(row1['Neighbourhood'])+\", \"+str(row['Neighbourhood'])\n            CanadaDF.set_value(index1,'Neighbourhood',NewValue)"
        }, 
        {
            "execution_count": 161, 
            "cell_type": "code", 
            "metadata": {}, 
            "outputs": [
                {
                    "execution_count": 161, 
                    "metadata": {}, 
                    "data": {
                        "text/html": "<div>\n<style scoped>\n    .dataframe tbody tr th:only-of-type {\n        vertical-align: middle;\n    }\n\n    .dataframe tbody tr th {\n        vertical-align: top;\n    }\n\n    .dataframe thead th {\n        text-align: right;\n    }\n</style>\n<table border=\"1\" class=\"dataframe\">\n  <thead>\n    <tr style=\"text-align: right;\">\n      <th></th>\n      <th>Postcode</th>\n      <th>Borough</th>\n      <th>Neighbourhood</th>\n    </tr>\n  </thead>\n  <tbody>\n    <tr>\n      <th>8</th>\n      <td>M1B</td>\n      <td>Scarborough</td>\n      <td>Rouge, Malvern</td>\n    </tr>\n    <tr>\n      <th>23</th>\n      <td>M1C</td>\n      <td>Scarborough</td>\n      <td>Port Union, Rouge Hill, Highland Creek</td>\n    </tr>\n    <tr>\n      <th>33</th>\n      <td>M1E</td>\n      <td>Scarborough</td>\n      <td>Guildwood, Morningside, West Hill</td>\n    </tr>\n    <tr>\n      <th>39</th>\n      <td>M1G</td>\n      <td>Scarborough</td>\n      <td>Woburn</td>\n    </tr>\n    <tr>\n      <th>43</th>\n      <td>M1H</td>\n      <td>Scarborough</td>\n      <td>Cedarbrae</td>\n    </tr>\n    <tr>\n      <th>54</th>\n      <td>M1J</td>\n      <td>Scarborough</td>\n      <td>Scarborough Village</td>\n    </tr>\n    <tr>\n      <th>66</th>\n      <td>M1K</td>\n      <td>Scarborough</td>\n      <td>East Birchmount Park, Ionview, Kennedy Park</td>\n    </tr>\n    <tr>\n      <th>80</th>\n      <td>M1L</td>\n      <td>Scarborough</td>\n      <td>Golden Mile, Oakridge, Clairlea</td>\n    </tr>\n    <tr>\n      <th>93</th>\n      <td>M1M</td>\n      <td>Scarborough</td>\n      <td>Cliffcrest, Scarborough Village West, Cliffside</td>\n    </tr>\n    <tr>\n      <th>109</th>\n      <td>M1N</td>\n      <td>Scarborough</td>\n      <td>Cliffside West, Birch Cliff</td>\n    </tr>\n  </tbody>\n</table>\n</div>", 
                        "text/plain": "    Postcode      Borough                                    Neighbourhood\n8        M1B  Scarborough                                   Rouge, Malvern\n23       M1C  Scarborough           Port Union, Rouge Hill, Highland Creek\n33       M1E  Scarborough                Guildwood, Morningside, West Hill\n39       M1G  Scarborough                                           Woburn\n43       M1H  Scarborough                                        Cedarbrae\n54       M1J  Scarborough                              Scarborough Village\n66       M1K  Scarborough      East Birchmount Park, Ionview, Kennedy Park\n80       M1L  Scarborough                  Golden Mile, Oakridge, Clairlea\n93       M1M  Scarborough  Cliffcrest, Scarborough Village West, Cliffside\n109      M1N  Scarborough                      Cliffside West, Birch Cliff"
                    }, 
                    "output_type": "execute_result"
                }
            ], 
            "source": "CanadaDF.head(10)"
        }, 
        {
            "execution_count": 160, 
            "cell_type": "code", 
            "metadata": {}, 
            "outputs": [
                {
                    "output_type": "stream", 
                    "name": "stdout", 
                    "text": "(103, 3)\n"
                }
            ], 
            "source": "print (CanadaDF.shape)"
        }, 
        {
            "execution_count": null, 
            "cell_type": "code", 
            "metadata": {}, 
            "outputs": [], 
            "source": ""
        }
    ], 
    "metadata": {
        "kernelspec": {
            "display_name": "Python 3.6", 
            "name": "python3", 
            "language": "python"
        }, 
        "language_info": {
            "mimetype": "text/x-python", 
            "nbconvert_exporter": "python", 
            "version": "3.6.8", 
            "name": "python", 
            "file_extension": ".py", 
            "pygments_lexer": "ipython3", 
            "codemirror_mode": {
                "version": 3, 
                "name": "ipython"
            }
        }
    }, 
    "nbformat": 4
}